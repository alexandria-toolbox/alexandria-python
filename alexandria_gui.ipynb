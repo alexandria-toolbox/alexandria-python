{
 "cells": [
  {
   "cell_type": "markdown",
   "metadata": {},
   "source": [
    "### Imports"
   ]
  },
  {
   "cell_type": "code",
   "execution_count": null,
   "metadata": {},
   "outputs": [],
   "source": [
    "import IPython\n",
    "IPython.get_ipython().run_line_magic('reset', '-sf') \n",
    "import sys\n",
    "import warnings\n",
    "import matplotlib.pyplot as plt\n",
    "import alexandria.console.console_utilities as cu\n",
    "from alexandria.interface.graphical_user_interface import GraphicalUserInterface"
   ]
  },
  {
   "cell_type": "markdown",
   "metadata": {},
   "source": [
    "### Graphical User Interface"
   ]
  },
  {
   "cell_type": "code",
   "execution_count": null,
   "metadata": {},
   "outputs": [],
   "source": [
    "# clear workspace and console\n",
    "cu.clear_console()\n",
    "warnings.filterwarnings('ignore')\n",
    "plt.close('all')\n",
    "\n",
    "# create and run graphical user interface\n",
    "gui = GraphicalUserInterface()\n",
    "\n",
    "# if user closed window manually without validating interface, terminate application\n",
    "if gui.user_interrupt:\n",
    "    sys.exit(0)\n",
    "    \n",
    "# recover user inputs\n",
    "user_inputs = gui.user_inputs"
   ]
  },
  {
   "cell_type": "markdown",
   "metadata": {},
   "source": [
    "### Main code"
   ]
  },
  {
   "cell_type": "code",
   "execution_count": null,
   "metadata": {},
   "outputs": [],
   "source": [
    "model = user_inputs['tab_1']['model']\n",
    "\n",
    "\n",
    "# if model is linear regression, import main code for linear regression, run it, and return model\n",
    "if model == 1:\n",
    "    from alexandria.linear_regression.main import linear_regression_main_code\n",
    "    lr = linear_regression_main_code(user_inputs)\n",
    "    \n",
    "# else, if model is vector autoregression, import main code for vector autoregression, run it, and return model\n",
    "elif model == 2:\n",
    "    from alexandria.vector_autoregression.main import vector_autoregression_main_code\n",
    "    var = vector_autoregression_main_code(user_inputs)    "
   ]
  },
  {
   "cell_type": "code",
   "execution_count": null,
   "metadata": {},
   "outputs": [],
   "source": []
  }
 ],
 "metadata": {
  "kernelspec": {
   "display_name": "Python [conda env:base] *",
   "language": "python",
   "name": "conda-base-py"
  },
  "language_info": {
   "codemirror_mode": {
    "name": "ipython",
    "version": 3
   },
   "file_extension": ".py",
   "mimetype": "text/x-python",
   "name": "python",
   "nbconvert_exporter": "python",
   "pygments_lexer": "ipython3",
   "version": "3.12.7"
  }
 },
 "nbformat": 4,
 "nbformat_minor": 4
}
